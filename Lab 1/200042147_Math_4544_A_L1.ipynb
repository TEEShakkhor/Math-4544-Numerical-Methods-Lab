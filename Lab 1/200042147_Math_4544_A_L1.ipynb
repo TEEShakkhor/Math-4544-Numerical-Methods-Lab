{
  "nbformat": 4,
  "nbformat_minor": 0,
  "metadata": {
    "colab": {
      "provenance": []
    },
    "kernelspec": {
      "name": "python3",
      "display_name": "Python 3"
    },
    "language_info": {
      "name": "python"
    }
  },
  "cells": [
    {
      "cell_type": "markdown",
      "metadata": {
        "id": "SChhcgB_Tkv9"
      },
      "source": [
        "# **Lab 1 : Bisection Method**<br>\n",
        "\n",
        "The bisection method (also known as the binary search method) is a method of finding roots of a non-linear function. The assumption here is that the function is real continuous, otherwise the bisection method will not work. It is based on the **Intermediate Value Theorem** which states that if f(x) is a real continuous function, and if f(x<sub>l</sub>)f(x<sub>u</sub>)\\< 0 then there must be a root between x<sub>l</sub> and x<sub>u</sub>.\n",
        "\n",
        "In today's lab, we will be implementing the bisection method in python. We will be considering the function f(x) as an array of coefficients, for instance if we want to have f(x) = x<sup>3</sup>-2x<sup>2</sup>+4, then in python we will create an array as follows:\n"
      ]
    },
    {
      "cell_type": "code",
      "metadata": {
        "id": "rZ4tGQSjTvYF",
        "colab": {
          "base_uri": "https://localhost:8080/"
        },
        "outputId": "eeccc3a2-3704-46b7-8ffc-2a98beaf1c55"
      },
      "source": [
        "import numpy as np\n",
        "\n",
        "f = np.array([1,-2,0,4])\n",
        "\n",
        "print(f)"
      ],
      "execution_count": null,
      "outputs": [
        {
          "output_type": "stream",
          "name": "stdout",
          "text": [
            "[ 1 -2  0  4]\n"
          ]
        }
      ]
    },
    {
      "cell_type": "markdown",
      "metadata": {
        "id": "E4vSfOrrTwlc"
      },
      "source": [
        "Next, you will need to create a user-defined function as follows\n",
        "\n",
        "```\n",
        "bisection_method(f, xl, xu, epsilon)\n",
        "```\n",
        "This function will return the root of the equation represented by the array f and in case it does not reach the root exactly then it will return the close enough value to the root that has an absolute relative approximate error of at most epsilon (%).\n",
        "\n",
        "In python, functions are defined as follows"
      ]
    },
    {
      "cell_type": "code",
      "metadata": {
        "colab": {
          "base_uri": "https://localhost:8080/"
        },
        "id": "aUR8kbzqT0AM",
        "outputId": "3a1113a2-f28d-4462-8499-1cec1c7248cf"
      },
      "source": [
        "#Execute this cell to test how the function works\n",
        "\n",
        "def func(a,b):\n",
        "  result = a + b\n",
        "  return result\n",
        "\n",
        "print(func(1,2))"
      ],
      "execution_count": null,
      "outputs": [
        {
          "output_type": "stream",
          "name": "stdout",
          "text": [
            "3\n"
          ]
        }
      ]
    },
    {
      "cell_type": "markdown",
      "metadata": {
        "id": "cCGekrFWT3Lc"
      },
      "source": [
        "Note that in python, we do not need to specify the data type for parameters nor any return type for the function as these are implicitly determined. Also, note the colon (:) after the function signature. Indentation matters in python, since the consecutive codes having same indentation will be considered as a single block."
      ]
    },
    {
      "cell_type": "markdown",
      "metadata": {
        "id": "3sOLCbqJT7q0"
      },
      "source": [
        "##Task 1\n",
        "Implement the function for bisection method following the requirements set earlier. Write a script after the function to call it and test whether it is working correctly."
      ]
    },
    {
      "cell_type": "code",
      "metadata": {
        "id": "f6HGUB7nT9k9",
        "colab": {
          "base_uri": "https://localhost:8080/"
        },
        "outputId": "571e4acb-7c26-40e1-ee29-eb83092d5092"
      },
      "source": [
        "#Complete the following function\n",
        "def func(f, x):\n",
        "    sum = 0\n",
        "    j = 0\n",
        "    for i in f:\n",
        "        sum += i * x ** (len(f) - j - 1)\n",
        "        j += 1\n",
        "    return sum\n",
        "\n",
        "\n",
        "import numpy as np\n",
        "\n",
        "f = np.array([1, -2, 0, 4])\n",
        "\n",
        "\n",
        "def bisection_method(f,xl,xu,epsilon):\n",
        "    if (func(f,xl) * func(f,xu) < 0):\n",
        "        mid = xl\n",
        "        while (xu - xl > epsilon):\n",
        "\n",
        "            mid = (xl + xu) / 2.0\n",
        "\n",
        "            if func(f,mid) == 0.0:\n",
        "                break\n",
        "\n",
        "            if func(f,mid) * func(f,xl) < 0:\n",
        "                xu = mid\n",
        "            else:\n",
        "                xl = mid\n",
        "    return mid\n",
        "\n",
        "#Write a driver code here for calling the function and testing it\n",
        "print(bisection_method(f, -2, 2, 0.0005))"
      ],
      "execution_count": null,
      "outputs": [
        {
          "output_type": "stream",
          "name": "stdout",
          "text": [
            "-1.13037109375\n"
          ]
        }
      ]
    },
    {
      "cell_type": "markdown",
      "metadata": {
        "id": "5Jb9dNIqT_f8"
      },
      "source": [
        "We can plot graphs in python using the matplotlib library. An example of plotting graphs is shown here"
      ]
    },
    {
      "cell_type": "code",
      "metadata": {
        "colab": {
          "base_uri": "https://localhost:8080/",
          "height": 295
        },
        "id": "0XJwGIRjUCy7",
        "outputId": "ff30fe67-4b35-473e-fd06-c289576e1455"
      },
      "source": [
        "import numpy as np\n",
        "import matplotlib.pyplot as plt\n",
        "\n",
        "iters = np.arange(0, 5) #start=0, stop=5, and since no step is given, so default step=1\n",
        "vals = np.arange(100, 200, 20) #start=100, stop=200, step=20\n",
        "\n",
        "plt.plot(iters, vals)\n",
        "plt.title(\"Iterations vs values plot\")\n",
        "plt.xlabel(\"Iteration\")\n",
        "plt.ylabel(\"Value\")\n",
        "plt.show()"
      ],
      "execution_count": null,
      "outputs": [
        {
          "output_type": "display_data",
          "data": {
            "image/png": "[encoded data removed]",
            "text/plain": [
              "<Figure size 432x288 with 1 Axes>"
            ]
          },
          "metadata": {
            "needs_background": "light"
          }
        }
      ]
    },
    {
      "cell_type": "markdown",
      "metadata": {
        "id": "Z6sc0ZNUUGNk"
      },
      "source": [
        "## Task 2\n",
        "Generate a plot of **iteration vs relative approx error (%)** for the bisection method function you implemented earlier."
      ]
    },
    {
      "cell_type": "code",
      "source": [
        "\n",
        "iterations = []\n",
        "def func(f, x):\n",
        "    sum = 0\n",
        "    j = 0\n",
        "    for i in f:\n",
        "        sum += i * x ** (len(f) - j - 1)\n",
        "        j += 1\n",
        "    return sum\n",
        "\n",
        "\n",
        "import numpy as np\n",
        "f = np.array([1, -2, 0, 4])\n",
        "\n",
        "\n",
        "def bisection_method(f,xl,xu,epsilon):\n",
        "  error = 1\n",
        "  iteration = 0\n",
        "  approxerrors = []\n",
        "\n",
        "  mid=xl\n",
        "  while (abs(error) > epsilon):\n",
        "    mid_n = (xl + xu) / 2.0\n",
        "    if func(f,mid_n) == 0.0:\n",
        "                break\n",
        "    elif func(f,mid_n) * func(f,xl) < 0:\n",
        "      xu = mid_n\n",
        "\n",
        "    else:\n",
        "      xl = mid_n\n",
        "\n",
        "    error = (mid_n-mid)/mid_n\n",
        "    mid=mid_n\n",
        "    approxerrors.append(error)\n",
        "    iteration=iteration+1\n",
        "    iterations.append(iteration)\n",
        "    print(approxerrors)\n",
        "  return mid\n",
        "print(iterations)\n",
        "\n",
        "import numpy as np\n",
        "import matplotlib.pyplot as plt\n",
        "\n",
        "plt.plot(range(1,len(approxerrors)+1),approxerrors,marker='o')\n",
        "plt.title(\"Iterations vs relative approx error plot\")\n",
        "plt.xlabel(\"Iteration\")\n",
        "plt.ylabel(\"relative approx error %\")\n",
        "plt.grid(True)\n",
        "plt.show()\n",
        "#Write a driver code here for calling the function and testing it\n",
        "print(bisection_method(f, -2, 3, 0.0005))\n",
        "\n"
      ],
      "metadata": {
        "colab": {
          "base_uri": "https://localhost:8080/",
          "height": 770
        },
        "id": "l5sE8vWmo_CR",
        "outputId": "2e514d01-8198-443f-f849-3254df95b66e"
      },
      "execution_count": null,
      "outputs": [
        {
          "output_type": "stream",
          "name": "stdout",
          "text": [
            "[]\n"
          ]
        },
        {
          "output_type": "display_data",
          "data": {
            "text/plain": [
              "<Figure size 640x480 with 1 Axes>"
            ],
            "image/png": "[encoded data removed]"
          },
          "metadata": {}
        },
        {
          "output_type": "stream",
          "name": "stdout",
          "text": [
            "[5.0]\n",
            "[5.0, 1.6666666666666667]\n",
            "[5.0, 1.6666666666666667, 0.45454545454545453]\n",
            "[5.0, 1.6666666666666667, 0.45454545454545453, -0.29411764705882354]\n",
            "[5.0, 1.6666666666666667, 0.45454545454545453, -0.29411764705882354, 0.1282051282051282]\n",
            "[5.0, 1.6666666666666667, 0.45454545454545453, -0.29411764705882354, 0.1282051282051282, -0.0684931506849315]\n",
            "[5.0, 1.6666666666666667, 0.45454545454545453, -0.29411764705882354, 0.1282051282051282, -0.0684931506849315, -0.03546099290780142]\n",
            "[5.0, 1.6666666666666667, 0.45454545454545453, -0.29411764705882354, 0.1282051282051282, -0.0684931506849315, -0.03546099290780142, 0.017421602787456445]\n",
            "[5.0, 1.6666666666666667, 0.45454545454545453, -0.29411764705882354, 0.1282051282051282, -0.0684931506849315, -0.03546099290780142, 0.017421602787456445, 0.008635578583765112]\n",
            "[5.0, 1.6666666666666667, 0.45454545454545453, -0.29411764705882354, 0.1282051282051282, -0.0684931506849315, -0.03546099290780142, 0.017421602787456445, 0.008635578583765112, -0.004336513443191674]\n",
            "[5.0, 1.6666666666666667, 0.45454545454545453, -0.29411764705882354, 0.1282051282051282, -0.0684931506849315, -0.03546099290780142, 0.017421602787456445, 0.008635578583765112, -0.004336513443191674, 0.0021635655560363477]\n",
            "[5.0, 1.6666666666666667, 0.45454545454545453, -0.29411764705882354, 0.1282051282051282, -0.0684931506849315, -0.03546099290780142, 0.017421602787456445, 0.008635578583765112, -0.004336513443191674, 0.0021635655560363477, 0.001080613788631943]\n",
            "[5.0, 1.6666666666666667, 0.45454545454545453, -0.29411764705882354, 0.1282051282051282, -0.0684931506849315, -0.03546099290780142, 0.017421602787456445, 0.008635578583765112, -0.004336513443191674, 0.0021635655560363477, 0.001080613788631943, 0.0005400151204233718]\n",
            "[5.0, 1.6666666666666667, 0.45454545454545453, -0.29411764705882354, 0.1282051282051282, -0.0684931506849315, -0.03546099290780142, 0.017421602787456445, 0.008635578583765112, -0.004336513443191674, 0.0021635655560363477, 0.001080613788631943, 0.0005400151204233718, 0.00026993467580845433]\n",
            "-1.13055419921875\n"
          ]
        }
      ]
    }
  ]
}